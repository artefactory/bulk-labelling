{
 "cells": [
  {
   "cell_type": "markdown",
   "metadata": {},
   "source": [
    "# Bulk Labelling as a Notebook\n",
    "\n",
    "This notebook contains a convenient pattern to cluster and label new text data. The end-goal is to discover intents that might be used in a virtual assistant setting. This can be especially useful in an early stage and is part of the \"iterate on your data\"-mindset. Note that this tactic won't generate \"gold\" labels but it should generate something useful to help you get started. \n",
    "\n",
    "## Dependencies \n",
    "\n",
    "You'll need to install a few things to get started. \n",
    "\n",
    "- [whatlies](https://rasahq.github.io/whatlies/)\n",
    "- [human-learn](https://koaning.github.io/human-learn/)\n",
    "- [ipywidgets](https://ipywidgets.readthedocs.io/en/stable/)\n",
    "\n",
    "You can install all tools by running this line in an empty cell; \n",
    "\n",
    "```python\n",
    "%pip install \"whatlies[all]\" \"human-learn\" \"ipywidgets\"\n",
    "```\n",
    "\n",
    "Note that in order for the widgets to work you'll also need to run these commands *before* running jupyter.\n",
    "\n",
    "```bash\n",
    "jupyter nbextension enable --py widgetsnbextension\n",
    "jupyter labextension install @jupyter-widgets/jupyterlab-manager\n",
    "```\n",
    "\n",
    "Next, you *should* run this notebook on port 8888. If you can't, be sure to read [this comment]]() and set a flag;\n",
    "\n",
    "```\n",
    "export BOKEH_ALLOW_WS_ORIGIN=localhost:8889\n",
    "python -m jupyter lab --port 8889 --allow-websocket-origin=localhost:8889\n",
    "```\n",
    "\n",
    "We use `whatlies` to fetch embeddings and to handle the dimensionality reduction. We use `human-learn` for the interactive labelling interface. Feel free to check the documentation of both packages to learn more. \n",
    "\n",
    "## Let's go\n",
    "\n",
    "To get started we'll first import a few tools."
   ]
  },
  {
   "cell_type": "code",
   "execution_count": 3,
   "metadata": {},
   "outputs": [],
   "source": [
    "import pathlib \n",
    "import numpy as np\n",
    "import ipywidgets as widgets\n",
    "import pandas as pd\n",
    "\n",
    "from whatlies import EmbeddingSet \n",
    "from whatlies.transformers import Pca, Umap\n",
    "from hulearn.preprocessing import InteractivePreprocessor\n",
    "from hulearn.experimental.interactive import InteractiveCharts\n",
    "from whatlies.language import UniversalSentenceLanguage, LaBSELanguage"
   ]
  },
  {
   "cell_type": "code",
   "execution_count": 4,
   "metadata": {},
   "outputs": [
    {
     "ename": "FileNotFoundError",
     "evalue": "[Errno 2] No such file or directory: 'twcs.csv'",
     "output_type": "error",
     "traceback": [
      "\u001b[0;31m---------------------------------------------------------------------------\u001b[0m",
      "\u001b[0;31mFileNotFoundError\u001b[0m                         Traceback (most recent call last)",
      "\u001b[0;32m<ipython-input-4-473b6288c8d6>\u001b[0m in \u001b[0;36m<module>\u001b[0;34m\u001b[0m\n\u001b[0;32m----> 1\u001b[0;31m \u001b[0mdf\u001b[0m \u001b[0;34m=\u001b[0m \u001b[0mpd\u001b[0m\u001b[0;34m.\u001b[0m\u001b[0mread_csv\u001b[0m\u001b[0;34m(\u001b[0m\u001b[0;34m\"twcs.csv\"\u001b[0m\u001b[0;34m)\u001b[0m\u001b[0;34m\u001b[0m\u001b[0;34m\u001b[0m\u001b[0m\n\u001b[0m",
      "\u001b[0;32m~/opt/anaconda3/lib/python3.8/site-packages/pandas/io/parsers.py\u001b[0m in \u001b[0;36mread_csv\u001b[0;34m(filepath_or_buffer, sep, delimiter, header, names, index_col, usecols, squeeze, prefix, mangle_dupe_cols, dtype, engine, converters, true_values, false_values, skipinitialspace, skiprows, skipfooter, nrows, na_values, keep_default_na, na_filter, verbose, skip_blank_lines, parse_dates, infer_datetime_format, keep_date_col, date_parser, dayfirst, cache_dates, iterator, chunksize, compression, thousands, decimal, lineterminator, quotechar, quoting, doublequote, escapechar, comment, encoding, dialect, error_bad_lines, warn_bad_lines, delim_whitespace, low_memory, memory_map, float_precision)\u001b[0m\n\u001b[1;32m    684\u001b[0m     )\n\u001b[1;32m    685\u001b[0m \u001b[0;34m\u001b[0m\u001b[0m\n\u001b[0;32m--> 686\u001b[0;31m     \u001b[0;32mreturn\u001b[0m \u001b[0m_read\u001b[0m\u001b[0;34m(\u001b[0m\u001b[0mfilepath_or_buffer\u001b[0m\u001b[0;34m,\u001b[0m \u001b[0mkwds\u001b[0m\u001b[0;34m)\u001b[0m\u001b[0;34m\u001b[0m\u001b[0;34m\u001b[0m\u001b[0m\n\u001b[0m\u001b[1;32m    687\u001b[0m \u001b[0;34m\u001b[0m\u001b[0m\n\u001b[1;32m    688\u001b[0m \u001b[0;34m\u001b[0m\u001b[0m\n",
      "\u001b[0;32m~/opt/anaconda3/lib/python3.8/site-packages/pandas/io/parsers.py\u001b[0m in \u001b[0;36m_read\u001b[0;34m(filepath_or_buffer, kwds)\u001b[0m\n\u001b[1;32m    450\u001b[0m \u001b[0;34m\u001b[0m\u001b[0m\n\u001b[1;32m    451\u001b[0m     \u001b[0;31m# Create the parser.\u001b[0m\u001b[0;34m\u001b[0m\u001b[0;34m\u001b[0m\u001b[0;34m\u001b[0m\u001b[0m\n\u001b[0;32m--> 452\u001b[0;31m     \u001b[0mparser\u001b[0m \u001b[0;34m=\u001b[0m \u001b[0mTextFileReader\u001b[0m\u001b[0;34m(\u001b[0m\u001b[0mfp_or_buf\u001b[0m\u001b[0;34m,\u001b[0m \u001b[0;34m**\u001b[0m\u001b[0mkwds\u001b[0m\u001b[0;34m)\u001b[0m\u001b[0;34m\u001b[0m\u001b[0;34m\u001b[0m\u001b[0m\n\u001b[0m\u001b[1;32m    453\u001b[0m \u001b[0;34m\u001b[0m\u001b[0m\n\u001b[1;32m    454\u001b[0m     \u001b[0;32mif\u001b[0m \u001b[0mchunksize\u001b[0m \u001b[0;32mor\u001b[0m \u001b[0miterator\u001b[0m\u001b[0;34m:\u001b[0m\u001b[0;34m\u001b[0m\u001b[0;34m\u001b[0m\u001b[0m\n",
      "\u001b[0;32m~/opt/anaconda3/lib/python3.8/site-packages/pandas/io/parsers.py\u001b[0m in \u001b[0;36m__init__\u001b[0;34m(self, f, engine, **kwds)\u001b[0m\n\u001b[1;32m    944\u001b[0m             \u001b[0mself\u001b[0m\u001b[0;34m.\u001b[0m\u001b[0moptions\u001b[0m\u001b[0;34m[\u001b[0m\u001b[0;34m\"has_index_names\"\u001b[0m\u001b[0;34m]\u001b[0m \u001b[0;34m=\u001b[0m \u001b[0mkwds\u001b[0m\u001b[0;34m[\u001b[0m\u001b[0;34m\"has_index_names\"\u001b[0m\u001b[0;34m]\u001b[0m\u001b[0;34m\u001b[0m\u001b[0;34m\u001b[0m\u001b[0m\n\u001b[1;32m    945\u001b[0m \u001b[0;34m\u001b[0m\u001b[0m\n\u001b[0;32m--> 946\u001b[0;31m         \u001b[0mself\u001b[0m\u001b[0;34m.\u001b[0m\u001b[0m_make_engine\u001b[0m\u001b[0;34m(\u001b[0m\u001b[0mself\u001b[0m\u001b[0;34m.\u001b[0m\u001b[0mengine\u001b[0m\u001b[0;34m)\u001b[0m\u001b[0;34m\u001b[0m\u001b[0;34m\u001b[0m\u001b[0m\n\u001b[0m\u001b[1;32m    947\u001b[0m \u001b[0;34m\u001b[0m\u001b[0m\n\u001b[1;32m    948\u001b[0m     \u001b[0;32mdef\u001b[0m \u001b[0mclose\u001b[0m\u001b[0;34m(\u001b[0m\u001b[0mself\u001b[0m\u001b[0;34m)\u001b[0m\u001b[0;34m:\u001b[0m\u001b[0;34m\u001b[0m\u001b[0;34m\u001b[0m\u001b[0m\n",
      "\u001b[0;32m~/opt/anaconda3/lib/python3.8/site-packages/pandas/io/parsers.py\u001b[0m in \u001b[0;36m_make_engine\u001b[0;34m(self, engine)\u001b[0m\n\u001b[1;32m   1176\u001b[0m     \u001b[0;32mdef\u001b[0m \u001b[0m_make_engine\u001b[0m\u001b[0;34m(\u001b[0m\u001b[0mself\u001b[0m\u001b[0;34m,\u001b[0m \u001b[0mengine\u001b[0m\u001b[0;34m=\u001b[0m\u001b[0;34m\"c\"\u001b[0m\u001b[0;34m)\u001b[0m\u001b[0;34m:\u001b[0m\u001b[0;34m\u001b[0m\u001b[0;34m\u001b[0m\u001b[0m\n\u001b[1;32m   1177\u001b[0m         \u001b[0;32mif\u001b[0m \u001b[0mengine\u001b[0m \u001b[0;34m==\u001b[0m \u001b[0;34m\"c\"\u001b[0m\u001b[0;34m:\u001b[0m\u001b[0;34m\u001b[0m\u001b[0;34m\u001b[0m\u001b[0m\n\u001b[0;32m-> 1178\u001b[0;31m             \u001b[0mself\u001b[0m\u001b[0;34m.\u001b[0m\u001b[0m_engine\u001b[0m \u001b[0;34m=\u001b[0m \u001b[0mCParserWrapper\u001b[0m\u001b[0;34m(\u001b[0m\u001b[0mself\u001b[0m\u001b[0;34m.\u001b[0m\u001b[0mf\u001b[0m\u001b[0;34m,\u001b[0m \u001b[0;34m**\u001b[0m\u001b[0mself\u001b[0m\u001b[0;34m.\u001b[0m\u001b[0moptions\u001b[0m\u001b[0;34m)\u001b[0m\u001b[0;34m\u001b[0m\u001b[0;34m\u001b[0m\u001b[0m\n\u001b[0m\u001b[1;32m   1179\u001b[0m         \u001b[0;32melse\u001b[0m\u001b[0;34m:\u001b[0m\u001b[0;34m\u001b[0m\u001b[0;34m\u001b[0m\u001b[0m\n\u001b[1;32m   1180\u001b[0m             \u001b[0;32mif\u001b[0m \u001b[0mengine\u001b[0m \u001b[0;34m==\u001b[0m \u001b[0;34m\"python\"\u001b[0m\u001b[0;34m:\u001b[0m\u001b[0;34m\u001b[0m\u001b[0;34m\u001b[0m\u001b[0m\n",
      "\u001b[0;32m~/opt/anaconda3/lib/python3.8/site-packages/pandas/io/parsers.py\u001b[0m in \u001b[0;36m__init__\u001b[0;34m(self, src, **kwds)\u001b[0m\n\u001b[1;32m   2006\u001b[0m         \u001b[0mkwds\u001b[0m\u001b[0;34m[\u001b[0m\u001b[0;34m\"usecols\"\u001b[0m\u001b[0;34m]\u001b[0m \u001b[0;34m=\u001b[0m \u001b[0mself\u001b[0m\u001b[0;34m.\u001b[0m\u001b[0musecols\u001b[0m\u001b[0;34m\u001b[0m\u001b[0;34m\u001b[0m\u001b[0m\n\u001b[1;32m   2007\u001b[0m \u001b[0;34m\u001b[0m\u001b[0m\n\u001b[0;32m-> 2008\u001b[0;31m         \u001b[0mself\u001b[0m\u001b[0;34m.\u001b[0m\u001b[0m_reader\u001b[0m \u001b[0;34m=\u001b[0m \u001b[0mparsers\u001b[0m\u001b[0;34m.\u001b[0m\u001b[0mTextReader\u001b[0m\u001b[0;34m(\u001b[0m\u001b[0msrc\u001b[0m\u001b[0;34m,\u001b[0m \u001b[0;34m**\u001b[0m\u001b[0mkwds\u001b[0m\u001b[0;34m)\u001b[0m\u001b[0;34m\u001b[0m\u001b[0;34m\u001b[0m\u001b[0m\n\u001b[0m\u001b[1;32m   2009\u001b[0m         \u001b[0mself\u001b[0m\u001b[0;34m.\u001b[0m\u001b[0munnamed_cols\u001b[0m \u001b[0;34m=\u001b[0m \u001b[0mself\u001b[0m\u001b[0;34m.\u001b[0m\u001b[0m_reader\u001b[0m\u001b[0;34m.\u001b[0m\u001b[0munnamed_cols\u001b[0m\u001b[0;34m\u001b[0m\u001b[0;34m\u001b[0m\u001b[0m\n\u001b[1;32m   2010\u001b[0m \u001b[0;34m\u001b[0m\u001b[0m\n",
      "\u001b[0;32mpandas/_libs/parsers.pyx\u001b[0m in \u001b[0;36mpandas._libs.parsers.TextReader.__cinit__\u001b[0;34m()\u001b[0m\n",
      "\u001b[0;32mpandas/_libs/parsers.pyx\u001b[0m in \u001b[0;36mpandas._libs.parsers.TextReader._setup_parser_source\u001b[0;34m()\u001b[0m\n",
      "\u001b[0;31mFileNotFoundError\u001b[0m: [Errno 2] No such file or directory: 'twcs.csv'"
     ]
    }
   ],
   "source": [
    "df = pd.read_csv(\"twcs.csv\")"
   ]
  },
  {
   "cell_type": "code",
   "execution_count": 28,
   "metadata": {},
   "outputs": [],
   "source": [
    "pattern = \"(https?:\\/\\/(?:www\\.|(?!www))[a-zA-Z0-9][a-zA-Z0-9-]+[a-zA-Z0-9]\\.[^\\s]{2,}|www\\.[a-zA-Z0-9][a-zA-Z0-9-]+[a-zA-Z0-9]\\.[^\\s]{2,}|https?:\\/\\/(?:www\\.|(?!www))[a-zA-Z0-9]+\\.[^\\s]{2,}|www\\.[a-zA-Z0-9]+\\.[^\\s]{2,})\""
   ]
  },
  {
   "cell_type": "code",
   "execution_count": 140,
   "metadata": {},
   "outputs": [],
   "source": [
    "df_orig.to_csv(\"xbox-support.csv\", index=False)"
   ]
  },
  {
   "cell_type": "code",
   "execution_count": 29,
   "metadata": {},
   "outputs": [],
   "source": [
    "import pandas as pd \n",
    "\n",
    "df_orig = (pd.read_csv(\"twcs.csv\")\n",
    "             .loc[lambda d: d['text'].str.contains(\"XboxSupport\")][['text']]\n",
    "             .assign(text=lambda d: d['text'].str.replace('@[A-Za-z0-9]+', ''))\n",
    "             .assign(text=lambda d: d['text'].str.replace(pattern, ''))\n",
    "             .drop_duplicates())\n",
    "texts = list(df_orig['text'][:1000])"
   ]
  },
  {
   "cell_type": "markdown",
   "metadata": {},
   "source": [
    "Next, we're going to pick the language model of interest."
   ]
  },
  {
   "cell_type": "code",
   "execution_count": 153,
   "metadata": {
    "collapsed": true,
    "jupyter": {
     "outputs_hidden": true
    }
   },
   "outputs": [
    {
     "name": "stderr",
     "output_type": "stream",
     "text": [
      "INFO:absl:Downloading TF-Hub Module 'https://tfhub.dev/google/universal-sentence-encoder/4'.\n",
      "INFO:absl:Downloading https://tfhub.dev/google/universal-sentence-encoder/4: 170.00MB\n",
      "INFO:absl:Downloading https://tfhub.dev/google/universal-sentence-encoder/4: 340.00MB\n",
      "INFO:absl:Downloading https://tfhub.dev/google/universal-sentence-encoder/4: 510.00MB\n",
      "INFO:absl:Downloading https://tfhub.dev/google/universal-sentence-encoder/4: 680.00MB\n",
      "INFO:absl:Downloading https://tfhub.dev/google/universal-sentence-encoder/4: 850.00MB\n",
      "INFO:absl:Downloaded https://tfhub.dev/google/universal-sentence-encoder/4, Total size: 987.47MB\n",
      "INFO:absl:Downloaded TF-Hub Module 'https://tfhub.dev/google/universal-sentence-encoder/4'.\n"
     ]
    }
   ],
   "source": [
    "# The language agnostic bert model works is a good starting option, also for Non-English use-cases. \n",
    "# lang = LaBSELanguage()\n",
    "\n",
    "# The universal sentence language works well if you're dealing with English sentences.\n",
    "lang = UniversalSentenceLanguage()"
   ]
  },
  {
   "cell_type": "code",
   "execution_count": 155,
   "metadata": {},
   "outputs": [
    {
     "name": "stdout",
     "output_type": "stream",
     "text": [
      "CPU times: user 11.8 s, sys: 1.16 s, total: 13 s\n",
      "Wall time: 5.08 s\n"
     ]
    }
   ],
   "source": [
    "%%time \n",
    "# This is where we prepare all of the state\n",
    "embset = lang[texts]\n",
    "df = embset.transform(Umap(2)).to_dataframe().reset_index()\n",
    "df.columns = ['text', 'd1', 'd2']\n",
    "df['label'] = ''"
   ]
  },
  {
   "cell_type": "code",
   "execution_count": 31,
   "metadata": {},
   "outputs": [
    {
     "name": "stdout",
     "output_type": "stream",
     "text": [
      "CPU times: user 1min 53s, sys: 5.25 s, total: 1min 58s\n",
      "Wall time: 1min 52s\n"
     ]
    }
   ],
   "source": [
    "%%time \n",
    "# This is where we prepare all of the state\n",
    "embset = lang[texts]\n",
    "df = embset.transform(Umap(2)).to_dataframe().reset_index()\n",
    "df.columns = ['text', 'd1', 'd2']\n",
    "df['label'] = ''"
   ]
  },
  {
   "cell_type": "code",
   "execution_count": 156,
   "metadata": {},
   "outputs": [
    {
     "data": {
      "text/html": [
       "\n",
       "    <div class=\"bk-root\">\n",
       "        <a href=\"https://bokeh.org\" target=\"_blank\" class=\"bk-logo bk-logo-small bk-logo-notebook\"></a>\n",
       "        <span id=\"1794\">Loading BokehJS ...</span>\n",
       "    </div>"
      ]
     },
     "metadata": {},
     "output_type": "display_data"
    },
    {
     "data": {
      "application/javascript": [
       "\n",
       "(function(root) {\n",
       "  function now() {\n",
       "    return new Date();\n",
       "  }\n",
       "\n",
       "  var force = true;\n",
       "\n",
       "  if (typeof root._bokeh_onload_callbacks === \"undefined\" || force === true) {\n",
       "    root._bokeh_onload_callbacks = [];\n",
       "    root._bokeh_is_loading = undefined;\n",
       "  }\n",
       "\n",
       "  var JS_MIME_TYPE = 'application/javascript';\n",
       "  var HTML_MIME_TYPE = 'text/html';\n",
       "  var EXEC_MIME_TYPE = 'application/vnd.bokehjs_exec.v0+json';\n",
       "  var CLASS_NAME = 'output_bokeh rendered_html';\n",
       "\n",
       "  /**\n",
       "   * Render data to the DOM node\n",
       "   */\n",
       "  function render(props, node) {\n",
       "    var script = document.createElement(\"script\");\n",
       "    node.appendChild(script);\n",
       "  }\n",
       "\n",
       "  /**\n",
       "   * Handle when an output is cleared or removed\n",
       "   */\n",
       "  function handleClearOutput(event, handle) {\n",
       "    var cell = handle.cell;\n",
       "\n",
       "    var id = cell.output_area._bokeh_element_id;\n",
       "    var server_id = cell.output_area._bokeh_server_id;\n",
       "    // Clean up Bokeh references\n",
       "    if (id != null && id in Bokeh.index) {\n",
       "      Bokeh.index[id].model.document.clear();\n",
       "      delete Bokeh.index[id];\n",
       "    }\n",
       "\n",
       "    if (server_id !== undefined) {\n",
       "      // Clean up Bokeh references\n",
       "      var cmd = \"from bokeh.io.state import curstate; print(curstate().uuid_to_server['\" + server_id + \"'].get_sessions()[0].document.roots[0]._id)\";\n",
       "      cell.notebook.kernel.execute(cmd, {\n",
       "        iopub: {\n",
       "          output: function(msg) {\n",
       "            var id = msg.content.text.trim();\n",
       "            if (id in Bokeh.index) {\n",
       "              Bokeh.index[id].model.document.clear();\n",
       "              delete Bokeh.index[id];\n",
       "            }\n",
       "          }\n",
       "        }\n",
       "      });\n",
       "      // Destroy server and session\n",
       "      var cmd = \"import bokeh.io.notebook as ion; ion.destroy_server('\" + server_id + \"')\";\n",
       "      cell.notebook.kernel.execute(cmd);\n",
       "    }\n",
       "  }\n",
       "\n",
       "  /**\n",
       "   * Handle when a new output is added\n",
       "   */\n",
       "  function handleAddOutput(event, handle) {\n",
       "    var output_area = handle.output_area;\n",
       "    var output = handle.output;\n",
       "\n",
       "    // limit handleAddOutput to display_data with EXEC_MIME_TYPE content only\n",
       "    if ((output.output_type != \"display_data\") || (!output.data.hasOwnProperty(EXEC_MIME_TYPE))) {\n",
       "      return\n",
       "    }\n",
       "\n",
       "    var toinsert = output_area.element.find(\".\" + CLASS_NAME.split(' ')[0]);\n",
       "\n",
       "    if (output.metadata[EXEC_MIME_TYPE][\"id\"] !== undefined) {\n",
       "      toinsert[toinsert.length - 1].firstChild.textContent = output.data[JS_MIME_TYPE];\n",
       "      // store reference to embed id on output_area\n",
       "      output_area._bokeh_element_id = output.metadata[EXEC_MIME_TYPE][\"id\"];\n",
       "    }\n",
       "    if (output.metadata[EXEC_MIME_TYPE][\"server_id\"] !== undefined) {\n",
       "      var bk_div = document.createElement(\"div\");\n",
       "      bk_div.innerHTML = output.data[HTML_MIME_TYPE];\n",
       "      var script_attrs = bk_div.children[0].attributes;\n",
       "      for (var i = 0; i < script_attrs.length; i++) {\n",
       "        toinsert[toinsert.length - 1].firstChild.setAttribute(script_attrs[i].name, script_attrs[i].value);\n",
       "        toinsert[toinsert.length - 1].firstChild.textContent = bk_div.children[0].textContent\n",
       "      }\n",
       "      // store reference to server id on output_area\n",
       "      output_area._bokeh_server_id = output.metadata[EXEC_MIME_TYPE][\"server_id\"];\n",
       "    }\n",
       "  }\n",
       "\n",
       "  function register_renderer(events, OutputArea) {\n",
       "\n",
       "    function append_mime(data, metadata, element) {\n",
       "      // create a DOM node to render to\n",
       "      var toinsert = this.create_output_subarea(\n",
       "        metadata,\n",
       "        CLASS_NAME,\n",
       "        EXEC_MIME_TYPE\n",
       "      );\n",
       "      this.keyboard_manager.register_events(toinsert);\n",
       "      // Render to node\n",
       "      var props = {data: data, metadata: metadata[EXEC_MIME_TYPE]};\n",
       "      render(props, toinsert[toinsert.length - 1]);\n",
       "      element.append(toinsert);\n",
       "      return toinsert\n",
       "    }\n",
       "\n",
       "    /* Handle when an output is cleared or removed */\n",
       "    events.on('clear_output.CodeCell', handleClearOutput);\n",
       "    events.on('delete.Cell', handleClearOutput);\n",
       "\n",
       "    /* Handle when a new output is added */\n",
       "    events.on('output_added.OutputArea', handleAddOutput);\n",
       "\n",
       "    /**\n",
       "     * Register the mime type and append_mime function with output_area\n",
       "     */\n",
       "    OutputArea.prototype.register_mime_type(EXEC_MIME_TYPE, append_mime, {\n",
       "      /* Is output safe? */\n",
       "      safe: true,\n",
       "      /* Index of renderer in `output_area.display_order` */\n",
       "      index: 0\n",
       "    });\n",
       "  }\n",
       "\n",
       "  // register the mime type if in Jupyter Notebook environment and previously unregistered\n",
       "  if (root.Jupyter !== undefined) {\n",
       "    var events = require('base/js/events');\n",
       "    var OutputArea = require('notebook/js/outputarea').OutputArea;\n",
       "\n",
       "    if (OutputArea.prototype.mime_types().indexOf(EXEC_MIME_TYPE) == -1) {\n",
       "      register_renderer(events, OutputArea);\n",
       "    }\n",
       "  }\n",
       "\n",
       "  \n",
       "  if (typeof (root._bokeh_timeout) === \"undefined\" || force === true) {\n",
       "    root._bokeh_timeout = Date.now() + 5000;\n",
       "    root._bokeh_failed_load = false;\n",
       "  }\n",
       "\n",
       "  var NB_LOAD_WARNING = {'data': {'text/html':\n",
       "     \"<div style='background-color: #fdd'>\\n\"+\n",
       "     \"<p>\\n\"+\n",
       "     \"BokehJS does not appear to have successfully loaded. If loading BokehJS from CDN, this \\n\"+\n",
       "     \"may be due to a slow or bad network connection. Possible fixes:\\n\"+\n",
       "     \"</p>\\n\"+\n",
       "     \"<ul>\\n\"+\n",
       "     \"<li>re-rerun `output_notebook()` to attempt to load from CDN again, or</li>\\n\"+\n",
       "     \"<li>use INLINE resources instead, as so:</li>\\n\"+\n",
       "     \"</ul>\\n\"+\n",
       "     \"<code>\\n\"+\n",
       "     \"from bokeh.resources import INLINE\\n\"+\n",
       "     \"output_notebook(resources=INLINE)\\n\"+\n",
       "     \"</code>\\n\"+\n",
       "     \"</div>\"}};\n",
       "\n",
       "  function display_loaded() {\n",
       "    var el = document.getElementById(\"1794\");\n",
       "    if (el != null) {\n",
       "      el.textContent = \"BokehJS is loading...\";\n",
       "    }\n",
       "    if (root.Bokeh !== undefined) {\n",
       "      if (el != null) {\n",
       "        el.textContent = \"BokehJS \" + root.Bokeh.version + \" successfully loaded.\";\n",
       "      }\n",
       "    } else if (Date.now() < root._bokeh_timeout) {\n",
       "      setTimeout(display_loaded, 100)\n",
       "    }\n",
       "  }\n",
       "\n",
       "\n",
       "  function run_callbacks() {\n",
       "    try {\n",
       "      root._bokeh_onload_callbacks.forEach(function(callback) {\n",
       "        if (callback != null)\n",
       "          callback();\n",
       "      });\n",
       "    } finally {\n",
       "      delete root._bokeh_onload_callbacks\n",
       "    }\n",
       "    console.debug(\"Bokeh: all callbacks have finished\");\n",
       "  }\n",
       "\n",
       "  function load_libs(css_urls, js_urls, callback) {\n",
       "    if (css_urls == null) css_urls = [];\n",
       "    if (js_urls == null) js_urls = [];\n",
       "\n",
       "    root._bokeh_onload_callbacks.push(callback);\n",
       "    if (root._bokeh_is_loading > 0) {\n",
       "      console.debug(\"Bokeh: BokehJS is being loaded, scheduling callback at\", now());\n",
       "      return null;\n",
       "    }\n",
       "    if (js_urls == null || js_urls.length === 0) {\n",
       "      run_callbacks();\n",
       "      return null;\n",
       "    }\n",
       "    console.debug(\"Bokeh: BokehJS not loaded, scheduling load and callback at\", now());\n",
       "    root._bokeh_is_loading = css_urls.length + js_urls.length;\n",
       "\n",
       "    function on_load() {\n",
       "      root._bokeh_is_loading--;\n",
       "      if (root._bokeh_is_loading === 0) {\n",
       "        console.debug(\"Bokeh: all BokehJS libraries/stylesheets loaded\");\n",
       "        run_callbacks()\n",
       "      }\n",
       "    }\n",
       "\n",
       "    function on_error() {\n",
       "      console.error(\"failed to load \" + url);\n",
       "    }\n",
       "\n",
       "    for (var i = 0; i < css_urls.length; i++) {\n",
       "      var url = css_urls[i];\n",
       "      const element = document.createElement(\"link\");\n",
       "      element.onload = on_load;\n",
       "      element.onerror = on_error;\n",
       "      element.rel = \"stylesheet\";\n",
       "      element.type = \"text/css\";\n",
       "      element.href = url;\n",
       "      console.debug(\"Bokeh: injecting link tag for BokehJS stylesheet: \", url);\n",
       "      document.body.appendChild(element);\n",
       "    }\n",
       "\n",
       "    const hashes = {\"https://cdn.bokeh.org/bokeh/release/bokeh-2.2.3.min.js\": \"T2yuo9Oe71Cz/I4X9Ac5+gpEa5a8PpJCDlqKYO0CfAuEszu1JrXLl8YugMqYe3sM\", \"https://cdn.bokeh.org/bokeh/release/bokeh-widgets-2.2.3.min.js\": \"98GDGJ0kOMCUMUePhksaQ/GYgB3+NH9h996V88sh3aOiUNX3N+fLXAtry6xctSZ6\", \"https://cdn.bokeh.org/bokeh/release/bokeh-tables-2.2.3.min.js\": \"89bArO+nlbP3sgakeHjCo1JYxYR5wufVgA3IbUvDY+K7w4zyxJqssu7wVnfeKCq8\"};\n",
       "\n",
       "    for (var i = 0; i < js_urls.length; i++) {\n",
       "      var url = js_urls[i];\n",
       "      var element = document.createElement('script');\n",
       "      element.onload = on_load;\n",
       "      element.onerror = on_error;\n",
       "      element.async = false;\n",
       "      element.src = url;\n",
       "      if (url in hashes) {\n",
       "        element.crossOrigin = \"anonymous\";\n",
       "        element.integrity = \"sha384-\" + hashes[url];\n",
       "      }\n",
       "      console.debug(\"Bokeh: injecting script tag for BokehJS library: \", url);\n",
       "      document.head.appendChild(element);\n",
       "    }\n",
       "  };\n",
       "\n",
       "  function inject_raw_css(css) {\n",
       "    const element = document.createElement(\"style\");\n",
       "    element.appendChild(document.createTextNode(css));\n",
       "    document.body.appendChild(element);\n",
       "  }\n",
       "\n",
       "  \n",
       "  var js_urls = [\"https://cdn.bokeh.org/bokeh/release/bokeh-2.2.3.min.js\", \"https://cdn.bokeh.org/bokeh/release/bokeh-widgets-2.2.3.min.js\", \"https://cdn.bokeh.org/bokeh/release/bokeh-tables-2.2.3.min.js\"];\n",
       "  var css_urls = [];\n",
       "  \n",
       "\n",
       "  var inline_js = [\n",
       "    function(Bokeh) {\n",
       "      Bokeh.set_log_level(\"info\");\n",
       "    },\n",
       "    function(Bokeh) {\n",
       "    \n",
       "    \n",
       "    }\n",
       "  ];\n",
       "\n",
       "  function run_inline_js() {\n",
       "    \n",
       "    if (root.Bokeh !== undefined || force === true) {\n",
       "      \n",
       "    for (var i = 0; i < inline_js.length; i++) {\n",
       "      inline_js[i].call(root, root.Bokeh);\n",
       "    }\n",
       "    if (force === true) {\n",
       "        display_loaded();\n",
       "      }} else if (Date.now() < root._bokeh_timeout) {\n",
       "      setTimeout(run_inline_js, 100);\n",
       "    } else if (!root._bokeh_failed_load) {\n",
       "      console.log(\"Bokeh: BokehJS failed to load within specified timeout.\");\n",
       "      root._bokeh_failed_load = true;\n",
       "    } else if (force !== true) {\n",
       "      var cell = $(document.getElementById(\"1794\")).parents('.cell').data().cell;\n",
       "      cell.output_area.append_execute_result(NB_LOAD_WARNING)\n",
       "    }\n",
       "\n",
       "  }\n",
       "\n",
       "  if (root._bokeh_is_loading === 0) {\n",
       "    console.debug(\"Bokeh: BokehJS loaded, going straight to plotting\");\n",
       "    run_inline_js();\n",
       "  } else {\n",
       "    load_libs(css_urls, js_urls, function() {\n",
       "      console.debug(\"Bokeh: BokehJS plotting callback run at\", now());\n",
       "      run_inline_js();\n",
       "    });\n",
       "  }\n",
       "}(window));"
      ],
      "application/vnd.bokehjs_load.v0+json": "\n(function(root) {\n  function now() {\n    return new Date();\n  }\n\n  var force = true;\n\n  if (typeof root._bokeh_onload_callbacks === \"undefined\" || force === true) {\n    root._bokeh_onload_callbacks = [];\n    root._bokeh_is_loading = undefined;\n  }\n\n  \n\n  \n  if (typeof (root._bokeh_timeout) === \"undefined\" || force === true) {\n    root._bokeh_timeout = Date.now() + 5000;\n    root._bokeh_failed_load = false;\n  }\n\n  var NB_LOAD_WARNING = {'data': {'text/html':\n     \"<div style='background-color: #fdd'>\\n\"+\n     \"<p>\\n\"+\n     \"BokehJS does not appear to have successfully loaded. If loading BokehJS from CDN, this \\n\"+\n     \"may be due to a slow or bad network connection. Possible fixes:\\n\"+\n     \"</p>\\n\"+\n     \"<ul>\\n\"+\n     \"<li>re-rerun `output_notebook()` to attempt to load from CDN again, or</li>\\n\"+\n     \"<li>use INLINE resources instead, as so:</li>\\n\"+\n     \"</ul>\\n\"+\n     \"<code>\\n\"+\n     \"from bokeh.resources import INLINE\\n\"+\n     \"output_notebook(resources=INLINE)\\n\"+\n     \"</code>\\n\"+\n     \"</div>\"}};\n\n  function display_loaded() {\n    var el = document.getElementById(\"1794\");\n    if (el != null) {\n      el.textContent = \"BokehJS is loading...\";\n    }\n    if (root.Bokeh !== undefined) {\n      if (el != null) {\n        el.textContent = \"BokehJS \" + root.Bokeh.version + \" successfully loaded.\";\n      }\n    } else if (Date.now() < root._bokeh_timeout) {\n      setTimeout(display_loaded, 100)\n    }\n  }\n\n\n  function run_callbacks() {\n    try {\n      root._bokeh_onload_callbacks.forEach(function(callback) {\n        if (callback != null)\n          callback();\n      });\n    } finally {\n      delete root._bokeh_onload_callbacks\n    }\n    console.debug(\"Bokeh: all callbacks have finished\");\n  }\n\n  function load_libs(css_urls, js_urls, callback) {\n    if (css_urls == null) css_urls = [];\n    if (js_urls == null) js_urls = [];\n\n    root._bokeh_onload_callbacks.push(callback);\n    if (root._bokeh_is_loading > 0) {\n      console.debug(\"Bokeh: BokehJS is being loaded, scheduling callback at\", now());\n      return null;\n    }\n    if (js_urls == null || js_urls.length === 0) {\n      run_callbacks();\n      return null;\n    }\n    console.debug(\"Bokeh: BokehJS not loaded, scheduling load and callback at\", now());\n    root._bokeh_is_loading = css_urls.length + js_urls.length;\n\n    function on_load() {\n      root._bokeh_is_loading--;\n      if (root._bokeh_is_loading === 0) {\n        console.debug(\"Bokeh: all BokehJS libraries/stylesheets loaded\");\n        run_callbacks()\n      }\n    }\n\n    function on_error() {\n      console.error(\"failed to load \" + url);\n    }\n\n    for (var i = 0; i < css_urls.length; i++) {\n      var url = css_urls[i];\n      const element = document.createElement(\"link\");\n      element.onload = on_load;\n      element.onerror = on_error;\n      element.rel = \"stylesheet\";\n      element.type = \"text/css\";\n      element.href = url;\n      console.debug(\"Bokeh: injecting link tag for BokehJS stylesheet: \", url);\n      document.body.appendChild(element);\n    }\n\n    const hashes = {\"https://cdn.bokeh.org/bokeh/release/bokeh-2.2.3.min.js\": \"T2yuo9Oe71Cz/I4X9Ac5+gpEa5a8PpJCDlqKYO0CfAuEszu1JrXLl8YugMqYe3sM\", \"https://cdn.bokeh.org/bokeh/release/bokeh-widgets-2.2.3.min.js\": \"98GDGJ0kOMCUMUePhksaQ/GYgB3+NH9h996V88sh3aOiUNX3N+fLXAtry6xctSZ6\", \"https://cdn.bokeh.org/bokeh/release/bokeh-tables-2.2.3.min.js\": \"89bArO+nlbP3sgakeHjCo1JYxYR5wufVgA3IbUvDY+K7w4zyxJqssu7wVnfeKCq8\"};\n\n    for (var i = 0; i < js_urls.length; i++) {\n      var url = js_urls[i];\n      var element = document.createElement('script');\n      element.onload = on_load;\n      element.onerror = on_error;\n      element.async = false;\n      element.src = url;\n      if (url in hashes) {\n        element.crossOrigin = \"anonymous\";\n        element.integrity = \"sha384-\" + hashes[url];\n      }\n      console.debug(\"Bokeh: injecting script tag for BokehJS library: \", url);\n      document.head.appendChild(element);\n    }\n  };\n\n  function inject_raw_css(css) {\n    const element = document.createElement(\"style\");\n    element.appendChild(document.createTextNode(css));\n    document.body.appendChild(element);\n  }\n\n  \n  var js_urls = [\"https://cdn.bokeh.org/bokeh/release/bokeh-2.2.3.min.js\", \"https://cdn.bokeh.org/bokeh/release/bokeh-widgets-2.2.3.min.js\", \"https://cdn.bokeh.org/bokeh/release/bokeh-tables-2.2.3.min.js\"];\n  var css_urls = [];\n  \n\n  var inline_js = [\n    function(Bokeh) {\n      Bokeh.set_log_level(\"info\");\n    },\n    function(Bokeh) {\n    \n    \n    }\n  ];\n\n  function run_inline_js() {\n    \n    if (root.Bokeh !== undefined || force === true) {\n      \n    for (var i = 0; i < inline_js.length; i++) {\n      inline_js[i].call(root, root.Bokeh);\n    }\n    if (force === true) {\n        display_loaded();\n      }} else if (Date.now() < root._bokeh_timeout) {\n      setTimeout(run_inline_js, 100);\n    } else if (!root._bokeh_failed_load) {\n      console.log(\"Bokeh: BokehJS failed to load within specified timeout.\");\n      root._bokeh_failed_load = true;\n    } else if (force !== true) {\n      var cell = $(document.getElementById(\"1794\")).parents('.cell').data().cell;\n      cell.output_area.append_execute_result(NB_LOAD_WARNING)\n    }\n\n  }\n\n  if (root._bokeh_is_loading === 0) {\n    console.debug(\"Bokeh: BokehJS loaded, going straight to plotting\");\n    run_inline_js();\n  } else {\n    load_libs(css_urls, js_urls, function() {\n      console.debug(\"Bokeh: BokehJS plotting callback run at\", now());\n      run_inline_js();\n    });\n  }\n}(window));"
     },
     "metadata": {},
     "output_type": "display_data"
    }
   ],
   "source": [
    "# Here's the global state object\n",
    "state = {}\n",
    "state['df'] = df.copy()\n",
    "state['chart'] = InteractiveCharts(df.loc[lambda d: d['label'] == ''], labels=['group'])"
   ]
  },
  {
   "cell_type": "markdown",
   "metadata": {},
   "source": [
    "## Showing Clusters \n",
    "\n",
    "The idea is that we're embedding text embeddings in a two dimensional space. For more info on the details watch [the first tutorial](https://www.youtube.com/watch?v=YsMoGd7sYMQ&t=1s&ab_channel=Rasa).\n",
    "\n",
    "![](pipeline.png)\n",
    "\n",
    "We'll be using Vincent's infamous [human-learn library](https://koaning.github.io/human-learn/guide/drawing-features/custom-features.html) to draw selections of 2D embeddings.\n",
    "\n",
    "Drawing can be a bit tricky though, so pay attention. \n",
    "\n",
    "0. To start drawing, make sure the red ball icon is selected.\n",
    "1. You'll want to double-click to start drawing. \n",
    "2. You can then click points together to form a polygon. \n",
    "3. Next you need to double-click to stop drawing. \n",
    "\n",
    "This allows you to draw polygons that can be used in the code below to fetch the examples that you're interested in. Once you've drawn a polygon click \"show examples\" to see examples of your selections and use the textbox and \"add label\" button to add labels."
   ]
  },
  {
   "cell_type": "code",
   "execution_count": 157,
   "metadata": {
    "jupyter": {
     "source_hidden": true
    }
   },
   "outputs": [
    {
     "name": "stderr",
     "output_type": "stream",
     "text": [
      "/Users/vincent/Development/rasalit/venv/lib/python3.7/site-packages/ipykernel_launcher.py:1: FutureWarning: Passing a negative integer is deprecated in version 1.0 and will not be supported in future version. Instead, use None to not limit the column width.\n",
      "  \"\"\"Entry point for launching an IPython kernel.\n"
     ]
    },
    {
     "data": {
      "application/vnd.jupyter.widget-view+json": {
       "model_id": "a6c814a38daa4684bb8c3d8e69c7c26d",
       "version_major": 2,
       "version_minor": 0
      },
      "text/plain": [
       "VBox(children=(HBox(children=(Button(description='Retrain', icon='coffee', style=ButtonStyle()), Button(descri…"
      ]
     },
     "metadata": {},
     "output_type": "display_data"
    },
    {
     "data": {
      "application/vnd.jupyter.widget-view+json": {
       "model_id": "f596e1c4610148d09ccad4a65d41dfe4",
       "version_major": 2,
       "version_minor": 0
      },
      "text/plain": [
       "Text(value='label name')"
      ]
     },
     "metadata": {},
     "output_type": "display_data"
    },
    {
     "data": {
      "application/vnd.jupyter.widget-view+json": {
       "model_id": "e6f11fd8df3f48fa8189f844345c2cd3",
       "version_major": 2,
       "version_minor": 0
      },
      "text/plain": [
       "HBox(children=(Button(description='Add label', icon='check', style=ButtonStyle()), Output()))"
      ]
     },
     "metadata": {},
     "output_type": "display_data"
    }
   ],
   "source": [
    "pd.set_option('display.max_colwidth', -1)\n",
    "\n",
    "def show_draw_chart(b=None):\n",
    "    with out_chart:\n",
    "        out_chart.clear_output()\n",
    "        state['chart'].dataf = state['df'].loc[lambda d: d['label'] == '']\n",
    "        state['chart'].charts = []\n",
    "        state['chart'].add_chart(x='d1', y='d2', legend=False)\n",
    "\n",
    "def show_examples(b=None):\n",
    "    with out_table:\n",
    "        out_table.clear_output()\n",
    "        tfm = InteractivePreprocessor(json_desc=state['chart'].data())\n",
    "        subset = state['df'].pipe(tfm.pandas_pipe).loc[lambda d: d['group'] != 0]\n",
    "        display(subset.sample(min(15, subset.shape[0]))[['text']])\n",
    "\n",
    "def assign_label(b=None):\n",
    "    tfm = InteractivePreprocessor(json_desc=state['chart'].data())\n",
    "    idx = state['df'].pipe(tfm.pandas_pipe).loc[lambda d: d['group'] != 0].index\n",
    "    state['df'].iloc[idx, 3] = label_name.value\n",
    "    with out_counter:\n",
    "        out_counter.clear_output()\n",
    "        n_lab = state['df'].loc[lambda d: d['label'] != ''].shape[0]\n",
    "        print(f\"{n_lab}/{state['df'].shape[0]} labelled\")\n",
    "\n",
    "def retrain_state(b=None):\n",
    "    keep = list(state['df'].loc[lambda d: d['label'] == '']['text'])\n",
    "    umap = Umap(2)\n",
    "    new_df = EmbeddingSet(*[e for e in embset if e.name in keep]).transform(umap).to_dataframe().reset_index()\n",
    "    new_df.columns = ['text', 'd1', 'd2']\n",
    "    new_df['label'] = ''\n",
    "    state['df'] = pd.concat([new_df, state['df'].loc[lambda d: d['label'] != '']])\n",
    "    show_draw_chart(b)\n",
    "\n",
    "out_table = widgets.Output()\n",
    "out_chart = widgets.Output()\n",
    "out_counter = widgets.Output()\n",
    "\n",
    "label_name = widgets.Text(\"label name\")\n",
    "\n",
    "btn_examples = widgets.Button(\n",
    "    description='Show Examples',\n",
    "    icon='eye'\n",
    ")\n",
    "\n",
    "btn_label = widgets.Button(\n",
    "    description='Add label',\n",
    "    icon='check'\n",
    ")\n",
    "\n",
    "btn_retrain = widgets.Button(\n",
    "    description='Retrain',\n",
    "    icon='coffee'\n",
    ")\n",
    "\n",
    "btn_redraw = widgets.Button(\n",
    "    description='Redraw',\n",
    "    icon='check'\n",
    ")\n",
    "\n",
    "btn_examples.on_click(show_examples)\n",
    "btn_label.on_click(assign_label)\n",
    "btn_redraw.on_click(show_draw_chart)\n",
    "btn_retrain.on_click(retrain_state)\n",
    "\n",
    "show_draw_chart()\n",
    "display(widgets.VBox([widgets.HBox([btn_retrain, btn_examples, btn_redraw]), \n",
    "                      widgets.HBox([out_chart, out_table])]), \n",
    "        label_name, \n",
    "        widgets.HBox([btn_label, out_counter]))"
   ]
  },
  {
   "cell_type": "code",
   "execution_count": 168,
   "metadata": {},
   "outputs": [],
   "source": [
    "intent_words = {\n",
    "    \"gratitude\": ['thank'], \n",
    "    \"technical_issue\": ['overheat', 'fix', 'not switching off', 'noise'], \n",
    "    \"anger\": ['shit', 'suck', 'fuck', 'fvck', 'stupid'], \n",
    "    \"return\": ['return'], \n",
    "    \"game_related\": ['madden', 'fifa', 'kotor', 'creed', 'gears', 'scrabble', \n",
    "                     'dlc', 'war', 'cod', 'halo', 'minecraft', 'wolfenstein', \n",
    "                     'farcry', 'tomb raider', 'witcher', \"dragon age\", \"mass effect\", \n",
    "                     \"me1\", \"me2\", \"me3\", \"dragon age\"],\n",
    "    \"help\": [\"suggestions\", \"help\"],\n",
    "    \"digital-purchase\": [\"dlc\", \"code\"]\n",
    "}"
   ]
  },
  {
   "cell_type": "code",
   "execution_count": 159,
   "metadata": {},
   "outputs": [],
   "source": [
    "def assign_simple_intents(dataf, **kwargs):\n",
    "    df_internal = dataf.assign(text=lambda d: d['text'].str.lower())\n",
    "    for intent, words in kwargs.items():\n",
    "        df_internal[intent] = False\n",
    "        for w in words:\n",
    "            df_internal[intent] = np.where(df_internal['text'].str.contains(w), True, df_internal[intent])\n",
    "    return df_internal\n",
    "\n",
    "def keep_only_one_label(dataf):\n",
    "    return (dataf.loc[lambda d: d.drop(columns=['text']).sum(axis=1) == 1]\n",
    "             .melt(id_vars=\"text\", value_vars=list(intent_words.keys()), var_name='label')\n",
    "             .loc[lambda d: d['value'] == True]\n",
    "             .drop(columns=['value']))\n",
    "\n",
    "ml_df = (df_orig\n",
    "  .pipe(assign_simple_intents, **intent_words)\n",
    "  .pipe(keep_only_one_label))"
   ]
  },
  {
   "cell_type": "code",
   "execution_count": 160,
   "metadata": {},
   "outputs": [
    {
     "data": {
      "text/plain": [
       "((26983, 1), (6353, 2))"
      ]
     },
     "execution_count": 160,
     "metadata": {},
     "output_type": "execute_result"
    }
   ],
   "source": [
    "df_orig.shape, ml_df.shape"
   ]
  },
  {
   "cell_type": "code",
   "execution_count": 164,
   "metadata": {},
   "outputs": [
    {
     "data": {
      "image/png": "[encoded data removed]",
      "text/plain": [
       "<Figure size 432x288 with 1 Axes>"
      ]
     },
     "metadata": {
      "needs_background": "light"
     },
     "output_type": "display_data"
    }
   ],
   "source": [
    "import matplotlib.pylab as plt\n",
    "from sklearn.pipeline import Pipeline, FeatureUnion\n",
    "from sklearn.feature_extraction.text import CountVectorizer\n",
    "from sklearn.linear_model import LogisticRegression\n",
    "\n",
    "pipe = Pipeline([\n",
    "    ('feats', FeatureUnion([\n",
    "        ('cv1', CountVectorizer()),\n",
    "    ])),\n",
    "    ('mod', LogisticRegression(max_iter=1000)) \n",
    "])\n",
    "\n",
    "ml_text = list(ml_df['text'])\n",
    "probas = pipe.fit(ml_text, ml_df['label']).predict_proba(df_orig['text']).max(axis=1)\n",
    "plt.hist(probas, 30);"
   ]
  },
  {
   "cell_type": "markdown",
   "metadata": {},
   "source": [
    "Let's look at a couple of these examples. Can we find more words?"
   ]
  },
  {
   "cell_type": "code",
   "execution_count": 172,
   "metadata": {},
   "outputs": [
    {
     "data": {
      "text/html": [
       "<div>\n",
       "<style scoped>\n",
       "    .dataframe tbody tr th:only-of-type {\n",
       "        vertical-align: middle;\n",
       "    }\n",
       "\n",
       "    .dataframe tbody tr th {\n",
       "        vertical-align: top;\n",
       "    }\n",
       "\n",
       "    .dataframe thead th {\n",
       "        text-align: right;\n",
       "    }\n",
       "</style>\n",
       "<table border=\"1\" class=\"dataframe\">\n",
       "  <thead>\n",
       "    <tr style=\"text-align: right;\">\n",
       "      <th></th>\n",
       "      <th>text</th>\n",
       "      <th>pred</th>\n",
       "    </tr>\n",
       "  </thead>\n",
       "  <tbody>\n",
       "    <tr>\n",
       "      <th>121</th>\n",
       "      <td>Brilliant, thank you!</td>\n",
       "      <td>gratitude</td>\n",
       "    </tr>\n",
       "    <tr>\n",
       "      <th>3329</th>\n",
       "      <td>So far no, but thanks for checking in</td>\n",
       "      <td>gratitude</td>\n",
       "    </tr>\n",
       "    <tr>\n",
       "      <th>4739</th>\n",
       "      <td>I won a 1 month EA access subscription in your intergalactic competition the other day and I'm wondering if there's a time limit for me to redeem the code or if I'm ok to wait before entering so it's not wasted. Thanks.</td>\n",
       "      <td>gratitude</td>\n",
       "    </tr>\n",
       "    <tr>\n",
       "      <th>5682</th>\n",
       "      <td>Thanks RM. BluRays play fine. These DVDs also play fine on original XB1 and other devices. The discs aren’t dirty. Here’s a video. My guess is the XB1X isn’t handling some form of macrovision correctly.</td>\n",
       "      <td>gratitude</td>\n",
       "    </tr>\n",
       "    <tr>\n",
       "      <th>5690</th>\n",
       "      <td>Hi JL, why thank you! I am not given an 'automatic' resolution option, unfortunately, but I set it to PC RGB and it works! The DVDs play back fine now, even with resolution still on 4K. Thank you kindly! What a champ. What is 'colour space' out of interest?</td>\n",
       "      <td>gratitude</td>\n",
       "    </tr>\n",
       "    <tr>\n",
       "      <th>...</th>\n",
       "      <td>...</td>\n",
       "      <td>...</td>\n",
       "    </tr>\n",
       "    <tr>\n",
       "      <th>2799385</th>\n",
       "      <td>Thank you I've done that and hard reset it. I let it sit for some time powered off and seems to be better now.</td>\n",
       "      <td>gratitude</td>\n",
       "    </tr>\n",
       "    <tr>\n",
       "      <th>2802870</th>\n",
       "      <td>For sure. I'll let you know, thanks.</td>\n",
       "      <td>gratitude</td>\n",
       "    </tr>\n",
       "    <tr>\n",
       "      <th>2802887</th>\n",
       "      <td>Thanks for clarifying👍You’re doing a great job👌🏆</td>\n",
       "      <td>gratitude</td>\n",
       "    </tr>\n",
       "    <tr>\n",
       "      <th>2803965</th>\n",
       "      <td>Okay, thank you so much!</td>\n",
       "      <td>gratitude</td>\n",
       "    </tr>\n",
       "    <tr>\n",
       "      <th>2803972</th>\n",
       "      <td>Thank You 😍</td>\n",
       "      <td>gratitude</td>\n",
       "    </tr>\n",
       "  </tbody>\n",
       "</table>\n",
       "<p>1524 rows × 2 columns</p>\n",
       "</div>"
      ],
      "text/plain": [
       "                                                                                                                                                                                                                                                                       text  \\\n",
       "121        Brilliant, thank you!                                                                                                                                                                                                                                              \n",
       "3329      So far no, but thanks for checking in                                                                                                                                                                                                                               \n",
       "4739      I won a 1 month EA access subscription in your intergalactic competition the other day and I'm wondering if there's a time limit for me to redeem the code or if I'm ok to wait before entering so it's not wasted. Thanks.                                         \n",
       "5682      Thanks RM. BluRays play fine. These DVDs also play fine on original XB1 and other devices. The discs aren’t dirty. Here’s a video. My guess is the XB1X isn’t handling some form of macrovision correctly.                                                          \n",
       "5690      Hi JL, why thank you! I am not given an 'automatic' resolution option, unfortunately, but I set it to PC RGB and it works! The DVDs play back fine now, even with resolution still on 4K. Thank you kindly! What a champ. What is 'colour space' out of interest?   \n",
       "...                                                                                                                                                                                                                                                                     ...   \n",
       "2799385   Thank you I've done that and hard reset it. I let it sit for some time powered off and seems to be better now.                                                                                                                                                      \n",
       "2802870   For sure. I'll let you know, thanks.                                                                                                                                                                                                                                \n",
       "2802887    Thanks for clarifying👍You’re doing a great job👌🏆                                                                                                                                                                                                                   \n",
       "2803965   Okay, thank you so much!                                                                                                                                                                                                                                            \n",
       "2803972   Thank You 😍                                                                                                                                                                                                                                                         \n",
       "\n",
       "              pred  \n",
       "121      gratitude  \n",
       "3329     gratitude  \n",
       "4739     gratitude  \n",
       "5682     gratitude  \n",
       "5690     gratitude  \n",
       "...            ...  \n",
       "2799385  gratitude  \n",
       "2802870  gratitude  \n",
       "2802887  gratitude  \n",
       "2803965  gratitude  \n",
       "2803972  gratitude  \n",
       "\n",
       "[1524 rows x 2 columns]"
      ]
     },
     "execution_count": 172,
     "metadata": {},
     "output_type": "execute_result"
    }
   ],
   "source": [
    "anger_examples = (df_orig\n",
    "                  .loc[probas > 0.9]\n",
    "                  .assign(pred = lambda d: pipe.predict(d['text']))\n",
    "                  .loc[lambda d: d['pred'] == 'gratitude'])\n",
    "\n",
    "anger_examples"
   ]
  },
  {
   "cell_type": "markdown",
   "metadata": {},
   "source": [
    "For \"gratitude\" I think I've found some more keywords: \n",
    "\n",
    "- brilliant\n",
    "- great job \n",
    "- better\n",
    "- for sure"
   ]
  },
  {
   "cell_type": "code",
   "execution_count": 173,
   "metadata": {},
   "outputs": [
    {
     "data": {
      "text/html": [
       "<div>\n",
       "<style scoped>\n",
       "    .dataframe tbody tr th:only-of-type {\n",
       "        vertical-align: middle;\n",
       "    }\n",
       "\n",
       "    .dataframe tbody tr th {\n",
       "        vertical-align: top;\n",
       "    }\n",
       "\n",
       "    .dataframe thead th {\n",
       "        text-align: right;\n",
       "    }\n",
       "</style>\n",
       "<table border=\"1\" class=\"dataframe\">\n",
       "  <thead>\n",
       "    <tr style=\"text-align: right;\">\n",
       "      <th></th>\n",
       "      <th>text</th>\n",
       "      <th>pred</th>\n",
       "    </tr>\n",
       "  </thead>\n",
       "  <tbody>\n",
       "    <tr>\n",
       "      <th>233</th>\n",
       "      <td>the 5 app on Xboxes not working error code 200, done a power cycle and still the same? Please fix app</td>\n",
       "      <td>technical_issue</td>\n",
       "    </tr>\n",
       "    <tr>\n",
       "      <th>1023</th>\n",
       "      <td>I bought Dying Light from the xbox store and when I play it, it continuously freezes. I want my money back unless we can fix</td>\n",
       "      <td>technical_issue</td>\n",
       "    </tr>\n",
       "    <tr>\n",
       "      <th>2588</th>\n",
       "      <td>Since the latest update everytime I turn the console on I have to manually restart all downloads. When will you fix this?</td>\n",
       "      <td>technical_issue</td>\n",
       "    </tr>\n",
       "    <tr>\n",
       "      <th>5185</th>\n",
       "      <td>can you guys please fix the crap where I can’t join certain friends? It’s been going on ever since I started playing.</td>\n",
       "      <td>technical_issue</td>\n",
       "    </tr>\n",
       "    <tr>\n",
       "      <th>10413</th>\n",
       "      <td>fix the party connection.</td>\n",
       "      <td>technical_issue</td>\n",
       "    </tr>\n",
       "    <tr>\n",
       "      <th>...</th>\n",
       "      <td>...</td>\n",
       "      <td>...</td>\n",
       "    </tr>\n",
       "    <tr>\n",
       "      <th>2803991</th>\n",
       "      <td>It's been every game.  I fixed it by turning the console into offline mode, installing the game, bringing it back online then starting the patch.  Cheers, but your team might like to know about the issue...</td>\n",
       "      <td>technical_issue</td>\n",
       "    </tr>\n",
       "    <tr>\n",
       "      <th>2807041</th>\n",
       "      <td>\\nFix the dang console!! Been randomly doing this crap ALL WEEK! Can't click anything! Can't file error report! Can't Do Anything!!\\n #SickOfThisCrap</td>\n",
       "      <td>technical_issue</td>\n",
       "    </tr>\n",
       "    <tr>\n",
       "      <th>2807048</th>\n",
       "      <td>How do I fix this?  It is so large it’s running off the edge of my screen.</td>\n",
       "      <td>technical_issue</td>\n",
       "    </tr>\n",
       "    <tr>\n",
       "      <th>2808001</th>\n",
       "      <td>I have a problem When i enter dark souls 3 and load the game it says save data corrupted.\\nPlease  tell me how to fix it</td>\n",
       "      <td>technical_issue</td>\n",
       "    </tr>\n",
       "    <tr>\n",
       "      <th>2808002</th>\n",
       "      <td>my madden gets sooo laggy after I press the middle button is crazy, can't even move. I don't believe I get this with other games but is there any fix?</td>\n",
       "      <td>technical_issue</td>\n",
       "    </tr>\n",
       "  </tbody>\n",
       "</table>\n",
       "<p>1188 rows × 2 columns</p>\n",
       "</div>"
      ],
      "text/plain": [
       "                                                                                                                                                                                                                    text  \\\n",
       "233         the 5 app on Xboxes not working error code 200, done a power cycle and still the same? Please fix app                                                                                                          \n",
       "1023      I bought Dying Light from the xbox store and when I play it, it continuously freezes. I want my money back unless we can fix                                                                                     \n",
       "2588      Since the latest update everytime I turn the console on I have to manually restart all downloads. When will you fix this?                                                                                        \n",
       "5185      can you guys please fix the crap where I can’t join certain friends? It’s been going on ever since I started playing.                                                                                            \n",
       "10413     fix the party connection.                                                                                                                                                                                        \n",
       "...                             ...                                                                                                                                                                                        \n",
       "2803991   It's been every game.  I fixed it by turning the console into offline mode, installing the game, bringing it back online then starting the patch.  Cheers, but your team might like to know about the issue...   \n",
       "2807041    \\nFix the dang console!! Been randomly doing this crap ALL WEEK! Can't click anything! Can't file error report! Can't Do Anything!!\\n #SickOfThisCrap                                                           \n",
       "2807048   How do I fix this?  It is so large it’s running off the edge of my screen.                                                                                                                                       \n",
       "2808001    I have a problem When i enter dark souls 3 and load the game it says save data corrupted.\\nPlease  tell me how to fix it                                                                                        \n",
       "2808002  my madden gets sooo laggy after I press the middle button is crazy, can't even move. I don't believe I get this with other games but is there any fix?                                                            \n",
       "\n",
       "                    pred  \n",
       "233      technical_issue  \n",
       "1023     technical_issue  \n",
       "2588     technical_issue  \n",
       "5185     technical_issue  \n",
       "10413    technical_issue  \n",
       "...                  ...  \n",
       "2803991  technical_issue  \n",
       "2807041  technical_issue  \n",
       "2807048  technical_issue  \n",
       "2808001  technical_issue  \n",
       "2808002  technical_issue  \n",
       "\n",
       "[1188 rows x 2 columns]"
      ]
     },
     "execution_count": 173,
     "metadata": {},
     "output_type": "execute_result"
    }
   ],
   "source": [
    "tech_examples = (df_orig\n",
    "                  .loc[probas > 0.9]\n",
    "                  .assign(pred = lambda d: pipe.predict(d['text']))\n",
    "                  .loc[lambda d: d['pred'] == 'technical_issue'])\n",
    "\n",
    "tech_examples"
   ]
  },
  {
   "cell_type": "markdown",
   "metadata": {},
   "source": [
    "Same thing with \"tech examples\". More good words; \n",
    "\n",
    "- error code\n",
    "- patch \n",
    "- data corrupted \n",
    "- connection"
   ]
  },
  {
   "cell_type": "code",
   "execution_count": 178,
   "metadata": {},
   "outputs": [
    {
     "data": {
      "text/html": [
       "<div>\n",
       "<style scoped>\n",
       "    .dataframe tbody tr th:only-of-type {\n",
       "        vertical-align: middle;\n",
       "    }\n",
       "\n",
       "    .dataframe tbody tr th {\n",
       "        vertical-align: top;\n",
       "    }\n",
       "\n",
       "    .dataframe thead th {\n",
       "        text-align: right;\n",
       "    }\n",
       "</style>\n",
       "<table border=\"1\" class=\"dataframe\">\n",
       "  <thead>\n",
       "    <tr style=\"text-align: right;\">\n",
       "      <th></th>\n",
       "      <th>text</th>\n",
       "      <th>pred</th>\n",
       "    </tr>\n",
       "  </thead>\n",
       "  <tbody>\n",
       "  </tbody>\n",
       "</table>\n",
       "</div>"
      ],
      "text/plain": [
       "Empty DataFrame\n",
       "Columns: [text, pred]\n",
       "Index: []"
      ]
     },
     "execution_count": 178,
     "metadata": {},
     "output_type": "execute_result"
    }
   ],
   "source": [
    "anger_examples = (df_orig\n",
    "                  .loc[probas > 0.9]\n",
    "                  .assign(pred = lambda d: pipe.predict(d['text']))\n",
    "                  .loc[lambda d: d['pred'] == 'digital-purchase'])\n",
    "\n",
    "anger_examples"
   ]
  },
  {
   "cell_type": "markdown",
   "metadata": {},
   "source": [
    "So what do we do now? Well ... we repeat until we think we've got a good recall. "
   ]
  },
  {
   "cell_type": "code",
   "execution_count": 174,
   "metadata": {},
   "outputs": [],
   "source": [
    "intent_words = {\n",
    "    \"gratitude\": ['thank', 'brilliant', 'great job', 'better', 'for sure'], \n",
    "    \"technical_issue\": ['overheat', 'fix', 'not switching off', 'noise', 'error', 'patch', 'connection', 'data corrupted'], \n",
    "    \"anger\": ['shit', 'suck', 'fuck', 'fvck', 'stupid'], # 'fvck', 'stupid' were added\n",
    "    \"return\": ['return', 'policy', 'refund'], # 'policy' and 'refund' added\n",
    "    \"game_related\": ['madden', 'fifa', 'kotor', 'creed', 'gears', 'scrabble', \n",
    "                     'dlc', 'war', 'cod', 'halo', 'minecraft', 'wolfenstein', \n",
    "                     'farcry', 'tomb raider', 'witcher', \"dragon age\", \"mass effect\", \n",
    "                     \"me1\", \"me2\", \"me3\", \"dragon age\"],\n",
    "    \"help\": [\"suggestions\", \"help\"],\n",
    "    \"digital-purchase\": [\"dlc\", \"code\"]\n",
    "}"
   ]
  },
  {
   "cell_type": "markdown",
   "metadata": {},
   "source": [
    "Note that for the video games I've been using s2v instead. "
   ]
  },
  {
   "cell_type": "markdown",
   "metadata": {},
   "source": [
    "# Let's try clustering?\n",
    "\n",
    "It's no suprise that it doesn't work very well."
   ]
  },
  {
   "cell_type": "code",
   "execution_count": 126,
   "metadata": {},
   "outputs": [],
   "source": [
    "import hdbscan\n",
    "import umap\n",
    "\n",
    "mod = hdbscan.HDBSCAN(min_cluster_size=5)"
   ]
  },
  {
   "cell_type": "code",
   "execution_count": 127,
   "metadata": {},
   "outputs": [
    {
     "name": "stdout",
     "output_type": "stream",
     "text": [
      "CPU times: user 1min 41s, sys: 3.88 s, total: 1min 44s\n",
      "Wall time: 1min 45s\n"
     ]
    }
   ],
   "source": [
    "%%time \n",
    "X = lang.fit(texts).transform(texts)"
   ]
  },
  {
   "cell_type": "code",
   "execution_count": 128,
   "metadata": {},
   "outputs": [
    {
     "data": {
      "text/plain": [
       "HDBSCAN()"
      ]
     },
     "execution_count": 128,
     "metadata": {},
     "output_type": "execute_result"
    }
   ],
   "source": [
    "mod.fit(umap.UMAP(n_components=10).fit(X).transform(X))"
   ]
  },
  {
   "cell_type": "code",
   "execution_count": 129,
   "metadata": {},
   "outputs": [
    {
     "data": {
      "text/plain": [
       "-1     586\n",
       " 24    75 \n",
       " 23    36 \n",
       " 19    28 \n",
       " 21    27 \n",
       " 15    21 \n",
       " 11    18 \n",
       " 27    18 \n",
       " 17    17 \n",
       " 7     17 \n",
       " 12    15 \n",
       " 14    14 \n",
       " 6     12 \n",
       " 25    12 \n",
       " 20    11 \n",
       " 22    11 \n",
       " 5     9  \n",
       " 16    8  \n",
       " 2     8  \n",
       " 8     8  \n",
       " 0     7  \n",
       " 18    6  \n",
       " 13    6  \n",
       " 26    5  \n",
       " 9     5  \n",
       " 10    5  \n",
       " 4     5  \n",
       " 3     5  \n",
       " 1     5  \n",
       "dtype: int64"
      ]
     },
     "execution_count": 129,
     "metadata": {},
     "output_type": "execute_result"
    }
   ],
   "source": [
    "pd.Series(mod.labels_).value_counts()"
   ]
  },
  {
   "cell_type": "code",
   "execution_count": 131,
   "metadata": {},
   "outputs": [
    {
     "data": {
      "text/plain": [
       "<matplotlib.axes._subplots.AxesSubplot at 0x18ca82c10>"
      ]
     },
     "execution_count": 131,
     "metadata": {},
     "output_type": "execute_result"
    },
    {
     "data": {
      "image/png": "[encoded data removed]",
      "text/plain": [
       "<Figure size 432x288 with 2 Axes>"
      ]
     },
     "metadata": {
      "needs_background": "light"
     },
     "output_type": "display_data"
    }
   ],
   "source": [
    "mod.condensed_tree_.plot()"
   ]
  },
  {
   "cell_type": "code",
   "execution_count": 137,
   "metadata": {},
   "outputs": [
    {
     "name": "stdout",
     "output_type": "stream",
     "text": [
      " Maybe push them into fixing broken achievements on Xbox One?\n",
      "   will be Xbox Play Anywhere title?\n",
      " I agree  is awesome! #XboxHelp\n",
      " hey I've got a question about the Xbox One X Scorpio edition.\n",
      "  on the Xbox one x, and use the option HDR on my games ?\n",
      " That’s the Xbox one still use QR code’s 🤔\n",
      " Where is my patch for Xbox one\n",
      " Confusing thing is that the Xbox s controller has no issues\n",
      " why ain’t Netflix or Hulu working on y Xbox\n",
      " Xbox won’t let me leave the party\n",
      "     I have that issue with my Xbox one original\n",
      " Is there anyone who can send me a new Xbox One S?\n",
      "Xbox Overheated Twice In The Past 4 Minutes. \n",
      " I need help regarding in game keyboard freezing on Xbox one\n",
      " I think something may be wrong with my Xbox maybe??\n",
      "Is Xbox Live down? \n",
      "Does anyone elses #XboxOneX sound like this?  \n",
      "  you on xbox as well?\n",
      " It works fine for me on Xbox One games but 360 games won’t load my profile?\n",
      " Also is it normal if my Xbox 360 E has a Xbxo 360 S hard drive?\n",
      " 100k happy thanksgivings Xbox \n",
      " hiya any idea why my xbox keeps turning it self on\n",
      " Daltaroo and Xbox one\n",
      " Nope. To the internal hard drive on he Xbox\n",
      " my Xbox one is bricked.  2 days of trying \n",
      " lmao yeah if my Xbox worked gg\n",
      " Mkl tL Xbox one\n",
      " is the Xbox One S capable of 60 fps?\n",
      " The Xbox 1 s\n",
      " Is it the same as the Xb1 S?\n",
      "  #xbox  who are you?\n",
      " I just got a Xbox One S! Any tips or something?\n",
      " Xbox One X instant on bug? \n",
      " my Xbox one s isn’t allowing 4K\n",
      " can you please add ace combat 6 and hawx to the reverse compatibility list\n",
      " will a normal xbox one look better on a 4k tv or only the xbox one x\n"
     ]
    }
   ],
   "source": [
    "for t in np.array(texts)[mod.labels_ == 23]:\n",
    "    print(t)"
   ]
  },
  {
   "cell_type": "code",
   "execution_count": null,
   "metadata": {},
   "outputs": [],
   "source": []
  }
 ],
 "metadata": {
  "kernelspec": {
   "display_name": "Python 3",
   "language": "python",
   "name": "python3"
  },
  "language_info": {
   "codemirror_mode": {
    "name": "ipython",
    "version": 3
   },
   "file_extension": ".py",
   "mimetype": "text/x-python",
   "name": "python",
   "nbconvert_exporter": "python",
   "pygments_lexer": "ipython3",
   "version": "3.8.5"
  }
 },
 "nbformat": 4,
 "nbformat_minor": 4
}
